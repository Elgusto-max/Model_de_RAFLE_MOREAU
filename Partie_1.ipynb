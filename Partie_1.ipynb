{
 "cells": [
  {
   "cell_type": "markdown",
   "metadata": {},
   "source": [
    "# <center><font color=\"red\"> Ingénierie Financière et Statistique"
   ]
  },
  {
   "cell_type": "markdown",
   "metadata": {},
   "source": [
    "[Nicolas MARIE, PhD <br>\n",
    "<br>Associate professor in applied mathematics\n",
    "<br>Head of the MSc in financial engineering\n",
    "<br>ESME Sudria engineering school]"
   ]
  },
  {
   "cell_type": "code",
   "execution_count": 36,
   "metadata": {
    "hide_input": true
   },
   "outputs": [
    {
     "data": {
      "image/jpeg": "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\n",
      "text/plain": [
       "<IPython.core.display.Image object>"
      ]
     },
     "execution_count": 36,
     "metadata": {
      "image/jpeg": {
       "width": 150
      }
     },
     "output_type": "execute_result"
    }
   ],
   "source": [
    "from IPython.display import HTML, Image, YouTubeVideo, display\n",
    "Image('https://pbs.twimg.com/profile_images/831186374585880577/aQAqWwjG_400x400.jpg', width=150)"
   ]
  },
  {
   "cell_type": "markdown",
   "metadata": {},
   "source": [
    "[OBO,\n",
    "AFONSO,\n",
    "CHARRIER,\n",
    "MATHIEU]"
   ]
  },
  {
   "cell_type": "markdown",
   "metadata": {},
   "source": [
    "# PARIE 1\n",
    "### <center> Titre : Estimation de la tendance d’un problème de réflexion de Skorokhod associé à\n",
    "###  <center>une équation différentielle dirigée par le mouvement brownien fractionnaire et à un\n",
    "###  <center>processus de rafle de Moreau avec application en finance.</center>"
   ]
  },
  {
   "cell_type": "markdown",
   "metadata": {},
   "source": [
    "**Descriptif** : Soit **S(t)** le prix d’un actif risqué à la date t, modélisé par l’équation différentielle stochastique : "
   ]
  },
  {
   "cell_type": "code",
   "execution_count": 61,
   "metadata": {
    "hide_input": true
   },
   "outputs": [
    {
     "data": {
      "text/latex": [
       "\\begin{align}\n",
       "dS(t)=\\mu S(t) dt+ \\sigma S(t) dB(t)\n",
       "\\end{align}\n"
      ],
      "text/plain": [
       "<IPython.core.display.Latex object>"
      ]
     },
     "metadata": {},
     "output_type": "display_data"
    }
   ],
   "source": [
    "%%latex\n",
    "\\begin{align}\n",
    "dS(t)=\\mu S(t) dt+ \\sigma S(t) dB(t)\n",
    "\\end{align}"
   ]
  },
  {
   "cell_type": "markdown",
   "metadata": {},
   "source": [
    "#### Nous voulons simuler le mouvement brownien geometrique :"
   ]
  },
  {
   "cell_type": "code",
   "execution_count": 123,
   "metadata": {
    "hide_input": true
   },
   "outputs": [
    {
     "data": {
      "text/latex": [
       "\\begin{align}\n",
       "dS_{t}=\\mu S_{t} dt+ \\sigma S_{t} dB_{t}\n",
       "\\end{align}\n"
      ],
      "text/plain": [
       "<IPython.core.display.Latex object>"
      ]
     },
     "metadata": {},
     "output_type": "display_data"
    }
   ],
   "source": [
    "%%latex\n",
    "\\begin{align}\n",
    "dS_{t}=\\mu S_{t}  dt+ \\sigma S_{t} dB_{t}\n",
    "\\end{align}"
   ]
  },
  {
   "cell_type": "code",
   "execution_count": 56,
   "metadata": {
    "hide_input": true
   },
   "outputs": [
    {
     "data": {
      "text/latex": [
       "\\begin{align}\n",
       "S0=s0\n",
       "\\end{align}\n"
      ],
      "text/plain": [
       "<IPython.core.display.Latex object>"
      ]
     },
     "metadata": {},
     "output_type": "display_data"
    }
   ],
   "source": [
    "%%latex\n",
    "\\begin{align}\n",
    "S0=s0\n",
    "\\end{align}"
   ]
  },
  {
   "cell_type": "markdown",
   "metadata": {},
   "source": [
    "Si nous devons connaître la trajectoire de S. Nous allons utiliser la méthode d’Euler stochastique.\n",
    "<br>On va considérer une version discrétisée de cette équation, c'est à dire que nous avons l'approximer sous la forme:"
   ]
  },
  {
   "cell_type": "code",
   "execution_count": 152,
   "metadata": {
    "hide_input": true,
    "scrolled": true
   },
   "outputs": [
    {
     "data": {
      "text/latex": [
       "\\begin{align}\n",
       "\\widehat{S}\\equiv{s0}\n",
       "\\end{align}\n"
      ],
      "text/plain": [
       "<IPython.core.display.Latex object>"
      ]
     },
     "metadata": {},
     "output_type": "display_data"
    }
   ],
   "source": [
    "%%latex\n",
    "\\begin{align}\n",
    "\\widehat{S}\\equiv{s0}\n",
    "\\end{align}"
   ]
  },
  {
   "cell_type": "code",
   "execution_count": 158,
   "metadata": {
    "hide_input": true,
    "scrolled": true
   },
   "outputs": [
    {
     "data": {
      "text/latex": [
       "\\begin{align}\n",
       "\\widehat{S}_{(k+1)\\Delta}\\equiv \\widehat{S}_{k\\Delta t} +\n",
       "\\mu \\widehat{S}_{k\\Delta t} + \\Delta t \\\\ +\\sigma \\widehat{S}_{k\\Delta t} \\ (\\widehat{B}(k+1)\\Delta t \\ \n",
       "                                  - \\widehat{B}_{k\\Delta t}).\n",
       "\n",
       "\n",
       "\n",
       "\\end{align}\n"
      ],
      "text/plain": [
       "<IPython.core.display.Latex object>"
      ]
     },
     "metadata": {},
     "output_type": "display_data"
    }
   ],
   "source": [
    "%%latex\n",
    "\\begin{align}\n",
    "\\widehat{S}_{(k+1)\\Delta}\\equiv \\widehat{S}_{k\\Delta t} +\n",
    "\\mu \\widehat{S}_{k\\Delta t} + \\Delta t \\\\ +\\sigma \\widehat{S}_{k\\Delta t} \\ (\\widehat{B}(k+1)\\Delta t \\ \n",
    "                                  - \\widehat{B}_{k\\Delta t}).\n",
    "\n",
    "\n",
    "\n",
    "\\end{align}"
   ]
  },
  {
   "cell_type": "markdown",
   "metadata": {},
   "source": [
    "# Simulation de plusieurs trajectoires du mouvement brownien \n",
    "### (Forme approximé)"
   ]
  },
  {
   "cell_type": "markdown",
   "metadata": {},
   "source": [
    "#### Importation des libs"
   ]
  },
  {
   "cell_type": "code",
   "execution_count": 1,
   "metadata": {
    "hide_input": false
   },
   "outputs": [],
   "source": [
    "import pandas as pd\n",
    "import numpy as np\n",
    "import math\n",
    "\n",
    "import matplotlib.pyplot as plt\n",
    "%matplotlib inline\n"
   ]
  },
  {
   "cell_type": "code",
   "execution_count": 7,
   "metadata": {
    "hide_input": false
   },
   "outputs": [],
   "source": [
    "seed = 5       \n",
    "N  = 1000   #le nombre de périodes de temps\n",
    "\n",
    "#### FONCTION\n",
    "\n",
    "def Brownien(seed, N):\n",
    "    \n",
    "    np.random.seed(seed)   # pour toujours avoir les mêmes valeur  car sinon c'est aléatoire                    \n",
    "    dt = 1./N                                    # Nombre de pas (tk = kT/N)\n",
    "    b = np.random.normal(0, 1, int(N))#*np.sqrt(dt)  # #matrice composée de mxn variables aléatoires iid N(0,1)\n",
    "    S = np.cumsum(b)                             \n",
    "    return S, b\n",
    "\n",
    "\n",
    "\n",
    "#### INTEGRER LES VALEUR\n",
    "S = Brownien(seed, N)[0]\n",
    "S = np.insert(S, 0, 0)                      # S0 = 0 pour le mouvement brownien \n",
    "\n",
    "\n"
   ]
  },
  {
   "cell_type": "code",
   "execution_count": 8,
   "metadata": {},
   "outputs": [
    {
     "data": {
      "text/plain": [
       "Text(0.5, 1.0, 'Mouvement brownien')"
      ]
     },
     "execution_count": 8,
     "metadata": {},
     "output_type": "execute_result"
    },
    {
     "data": {
      "image/png": "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\n",
      "text/plain": [
       "<Figure size 720x576 with 1 Axes>"
      ]
     },
     "metadata": {
      "needs_background": "light"
     },
     "output_type": "display_data"
    }
   ],
   "source": [
    "plt.plot([1, 0, 2])\n"
    "plt.rcParams['figure.figsize'] = (10,8)\n",
    "\n",
    "ks = np.linspace(1, len(S), len(S)) # obtenir un tableau 1D allant d’une valeur de départ à une valeur de fin\n",
    "\n",
    "plt.plot(ks, S)\n",
    "plt.title('Mouvement brownien')"
   ]
  },
  {
   "cell_type": "code",
   "execution_count": 10,
   "metadata": {},
   "outputs": [
    {
     "name": "stdout",
     "output_type": "stream",
     "text": [
      "[NbConvertApp] Converting notebook Partie_1.ipynb to html\n",
      "[NbConvertApp] Writing 356782 bytes to Partie_1.html\n"
     ]
    }
   ],
   "source": [
    "!jupyter nbconvert --template=nbextensions --to=html Partie_1.ipynb"
   ]
  },
  {
   "cell_type": "code",
   "execution_count": null,
   "metadata": {},
   "outputs": [],
   "source": [
    "--template=nbextensions"
   ]
  }
 ],
 "metadata": {
  "kernelspec": {
   "display_name": "Python 3",
   "language": "python",
   "name": "python3"
  },
  "language_info": {
   "codemirror_mode": {
    "name": "ipython",
    "version": 3
   },
   "file_extension": ".py",
   "mimetype": "text/x-python",
   "name": "python",
   "nbconvert_exporter": "python",
   "pygments_lexer": "ipython3",
   "version": "3.7.3"
  },
  "varInspector": {
   "cols": {
    "lenName": 16,
    "lenType": 16,
    "lenVar": 40
   },
   "kernels_config": {
    "python": {
     "delete_cmd_postfix": "",
     "delete_cmd_prefix": "del ",
     "library": "var_list.py",
     "varRefreshCmd": "print(var_dic_list())"
    },
    "r": {
     "delete_cmd_postfix": ") ",
     "delete_cmd_prefix": "rm(",
     "library": "var_list.r",
     "varRefreshCmd": "cat(var_dic_list()) "
    }
   },
   "types_to_exclude": [
    "module",
    "function",
    "builtin_function_or_method",
    "instance",
    "_Feature"
   ],
   "window_display": false
  }
 },
 "nbformat": 4,
 "nbformat_minor": 2
}
